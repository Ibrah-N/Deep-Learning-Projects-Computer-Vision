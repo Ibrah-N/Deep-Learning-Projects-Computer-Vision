{
  "nbformat": 4,
  "nbformat_minor": 0,
  "metadata": {
    "colab": {
      "provenance": [],
      "mount_file_id": "14gZi6FY6He-U1uV8SHoGTuG7EHNvpPaj",
      "authorship_tag": "ABX9TyPsP+WV5IwLxSivS6Tx5msf",
      "include_colab_link": true
    },
    "kernelspec": {
      "name": "ir",
      "display_name": "R"
    },
    "language_info": {
      "name": "R"
    }
  },
  "cells": [
    {
      "cell_type": "markdown",
      "metadata": {
        "id": "view-in-github",
        "colab_type": "text"
      },
      "source": [
        "<a href=\"https://colab.research.google.com/github/Ibrah-N/Deep-Learning-Projects-Computer-Vision/blob/main/ADV_LAB_01.ipynb\" target=\"_parent\"><img src=\"https://colab.research.google.com/assets/colab-badge.svg\" alt=\"Open In Colab\"/></a>"
      ]
    },
    {
      "cell_type": "code",
      "execution_count": 1,
      "metadata": {
        "id": "0SCKVeWWLb0l",
        "colab": {
          "base_uri": "https://localhost:8080/"
        },
        "outputId": "acb80c58-d6b3-42b4-e8c2-da984525159b"
      },
      "outputs": [
        {
          "output_type": "stream",
          "name": "stdout",
          "text": [
            "[1] \"Welcome to R programming for advance statistics\"\n"
          ]
        }
      ],
      "source": [
        "# Print function\n",
        "\n",
        "\n",
        "print(\"Welcome to R programming for advance statistics\")"
      ]
    },
    {
      "cell_type": "code",
      "source": [
        "# for loop in R\n",
        "\n",
        "\n",
        "for (x in 1:10) {\n",
        "  print(x)\n",
        "}"
      ],
      "metadata": {
        "colab": {
          "base_uri": "https://localhost:8080/"
        },
        "id": "8JLY6A1SMXvR",
        "outputId": "77f889c4-ad6b-4ed9-be5e-6bfbc402c47b"
      },
      "execution_count": 2,
      "outputs": [
        {
          "output_type": "stream",
          "name": "stdout",
          "text": [
            "[1] 1\n",
            "[1] 2\n",
            "[1] 3\n",
            "[1] 4\n",
            "[1] 5\n",
            "[1] 6\n",
            "[1] 7\n",
            "[1] 8\n",
            "[1] 9\n",
            "[1] 10\n"
          ]
        }
      ]
    },
    {
      "cell_type": "code",
      "source": [
        "# creating variables in R\n",
        "\n",
        "id = 20\n",
        "name = \"Nab\"\n",
        "\n",
        "\n",
        "print(id)\n",
        "print(name)"
      ],
      "metadata": {
        "colab": {
          "base_uri": "https://localhost:8080/"
        },
        "id": "30k7-L4QMz2Q",
        "outputId": "5f101664-3961-4b42-f29a-f1f478772b1a"
      },
      "execution_count": 3,
      "outputs": [
        {
          "output_type": "stream",
          "name": "stdout",
          "text": [
            "[1] 20\n",
            "[1] \"Nab\"\n"
          ]
        }
      ]
    },
    {
      "cell_type": "code",
      "source": [
        "# concatenate element with past method\n",
        "\n",
        "f_n = \"Nab \" # first name\n",
        "l_n = \"Jan\"  # last name\n",
        "\n",
        "\n",
        "f_n = paste(f_n, l_n) # full name\n",
        "print(f_n)"
      ],
      "metadata": {
        "colab": {
          "base_uri": "https://localhost:8080/"
        },
        "id": "rwYjNmy0NSIJ",
        "outputId": "20daa19e-9674-4365-fc25-d9e36e6cd2bd"
      },
      "execution_count": 4,
      "outputs": [
        {
          "output_type": "stream",
          "name": "stdout",
          "text": [
            "[1] \"Nab  Jan\"\n"
          ]
        }
      ]
    },
    {
      "cell_type": "code",
      "source": [
        "# multiple variables initialization\n",
        "\n",
        "var1 = var2 = \"Nab\"\n",
        "\n",
        "cat(var1, var2)"
      ],
      "metadata": {
        "colab": {
          "base_uri": "https://localhost:8080/"
        },
        "id": "oVax-AKNNqV3",
        "outputId": "92bac241-49ef-4e72-e55f-d17a65aeff45"
      },
      "execution_count": 8,
      "outputs": [
        {
          "output_type": "stream",
          "name": "stdout",
          "text": [
            "Nab Nab"
          ]
        }
      ]
    },
    {
      "cell_type": "code",
      "source": [
        "# addition\n",
        "num_1 = 10\n",
        "num_2 = 5\n",
        "\n",
        "\n",
        "print(num_1 + num_2)"
      ],
      "metadata": {
        "colab": {
          "base_uri": "https://localhost:8080/"
        },
        "id": "gKpKXaymOQFo",
        "outputId": "1bb108c9-5350-46ae-8191-4dac57e521de"
      },
      "execution_count": 10,
      "outputs": [
        {
          "output_type": "stream",
          "name": "stdout",
          "text": [
            "[1] 15\n"
          ]
        }
      ]
    },
    {
      "cell_type": "code",
      "source": [
        "# subtraction\n",
        "num_1 = 10\n",
        "num_2 = 5\n",
        "\n",
        "\n",
        "print(num_1 - num_2)"
      ],
      "metadata": {
        "colab": {
          "base_uri": "https://localhost:8080/"
        },
        "id": "_xqk70iCOqEV",
        "outputId": "908622e8-1d1d-4c47-9f70-b9fd01228a46"
      },
      "execution_count": 11,
      "outputs": [
        {
          "output_type": "stream",
          "name": "stdout",
          "text": [
            "[1] 5\n"
          ]
        }
      ]
    },
    {
      "cell_type": "code",
      "source": [
        "# multiplication\n",
        "num_1 = 10\n",
        "num_2 = 5\n",
        "\n",
        "\n",
        "print(num_1 * num_2)"
      ],
      "metadata": {
        "colab": {
          "base_uri": "https://localhost:8080/"
        },
        "id": "gEHLVgXRO4S0",
        "outputId": "25960231-0b98-4dc6-ee60-349486ecc95c"
      },
      "execution_count": 12,
      "outputs": [
        {
          "output_type": "stream",
          "name": "stdout",
          "text": [
            "[1] 50\n"
          ]
        }
      ]
    },
    {
      "cell_type": "code",
      "source": [
        "# division\n",
        "num_1 = 10\n",
        "num_2 = 5\n",
        "\n",
        "\n",
        "print(num_1 / num_2)"
      ],
      "metadata": {
        "colab": {
          "base_uri": "https://localhost:8080/"
        },
        "id": "aPdwopR6O7Oj",
        "outputId": "9b190829-1c36-41ec-ce55-d89a5126db12"
      },
      "execution_count": 13,
      "outputs": [
        {
          "output_type": "stream",
          "name": "stdout",
          "text": [
            "[1] 2\n"
          ]
        }
      ]
    },
    {
      "cell_type": "code",
      "source": [
        "# modules\n",
        "num_1 = 10\n",
        "num_2 = 5\n",
        "\n",
        "\n",
        "print(num_1 %% num_2)"
      ],
      "metadata": {
        "colab": {
          "base_uri": "https://localhost:8080/"
        },
        "id": "N08W5dNMO-YE",
        "outputId": "c6517a0f-2d0d-4aef-a1b1-a134433a28fc"
      },
      "execution_count": 14,
      "outputs": [
        {
          "output_type": "stream",
          "name": "stdout",
          "text": [
            "[1] 0\n"
          ]
        }
      ]
    },
    {
      "cell_type": "code",
      "source": [
        "# Vectors Operations\n",
        "\n",
        "vec_1 = c(4, 8)\n",
        "vec_2 = c(2, 4)\n",
        "\n",
        "\n",
        "\n",
        "cat(\"addition \", vec_1 + vec_2, \"\\n\")\n",
        "cat(\"subtractin \", vec_1 - vec_2, \"\\n\")\n",
        "cat(\"multiplication \", vec_1 * vec_2, \"\\n\")\n",
        "cat(\"division \", vec_1 / vec_2, \"\\n\")\n",
        "cat(\"modulo \", vec_1 %% vec_2, \"\\n\")\n",
        "cat(\"exponent \", vec_1  ^ vec_2, \"\\n\")"
      ],
      "metadata": {
        "colab": {
          "base_uri": "https://localhost:8080/"
        },
        "id": "cYO7NU1HPEpQ",
        "outputId": "a36f6f74-fbe0-413c-b686-fe1bd77e8259"
      },
      "execution_count": 16,
      "outputs": [
        {
          "output_type": "stream",
          "name": "stdout",
          "text": [
            "addition  6 12 \n",
            "subtractin  2 4 \n",
            "multiplication  8 32 \n",
            "division  2 2 \n",
            "modulo  0 0 \n",
            "exponent  16 4096 \n"
          ]
        }
      ]
    },
    {
      "cell_type": "code",
      "source": [
        "# Repation wit rep function\n",
        "# rep(x, times, each)\n",
        "\n",
        "\n",
        "rep_times = rep(x=5, times=3)\n",
        "rep_times_vec = rep(x=c(1, 2, 3), times=3)\n",
        "rep_times_vec_each = rep(x=c(1, 2, 3), times=3, each=2)\n",
        "\n",
        "\n",
        "cat(\"rep_times \",rep_times , \"\\n\")\n",
        "cat(\"rep_times_vec \",rep_times_vec , \"\\n\")\n",
        "cat(\"rep_times_vec_each \",rep_times_vec_each , \"\\n\")"
      ],
      "metadata": {
        "colab": {
          "base_uri": "https://localhost:8080/"
        },
        "id": "De1J6YSfPVOL",
        "outputId": "8fa43edc-e425-4c94-adb6-89d1aa964efc"
      },
      "execution_count": 19,
      "outputs": [
        {
          "output_type": "stream",
          "name": "stdout",
          "text": [
            "rep_times  5 5 5 \n",
            "rep_times_vec  1 2 3 1 2 3 1 2 3 \n",
            "rep_times_vec_each  1 1 2 2 3 3 1 1 2 2 3 3 1 1 2 2 3 3 \n"
          ]
        }
      ]
    },
    {
      "cell_type": "code",
      "source": [
        "# storing vectors\n",
        "\n",
        "unsorted_vec = c(3, 2, 1, 4)\n",
        "\n",
        "sorted_d = sort(x=unsorted_vec, decreasing=TRUE)\n",
        "sorted_a = sort(x=unsorted_vec, decreasing=FALSE)\n",
        "\n",
        "\n",
        "cat(\"unsorted_vec \",unsorted_vec , \"\\n\")\n",
        "cat(\"sorted_d \",sorted_d , \"\\n\")\n",
        "cat(\"sorted_a \",sorted_a , \"\\n\")"
      ],
      "metadata": {
        "colab": {
          "base_uri": "https://localhost:8080/"
        },
        "id": "Avnv0QafQxUO",
        "outputId": "d0d016f8-e9c3-4bd8-e732-be4f86aff780"
      },
      "execution_count": 20,
      "outputs": [
        {
          "output_type": "stream",
          "name": "stdout",
          "text": [
            "unsorted_vec  3 2 1 4 \n",
            "sorted_d  4 3 2 1 \n",
            "sorted_a  1 2 3 4 \n"
          ]
        }
      ]
    },
    {
      "cell_type": "code",
      "source": [],
      "metadata": {
        "id": "K2es2YXTRdaF"
      },
      "execution_count": null,
      "outputs": []
    }
  ]
}